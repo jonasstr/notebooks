{
 "cells": [
  {
   "cell_type": "markdown",
   "metadata": {},
   "source": [
    "# Notebook zu Gleitpunktzahlen im IEEE-Standard (Double-Precision)"
   ]
  },
  {
   "cell_type": "markdown",
   "metadata": {},
   "source": [
    "---\n",
    "\n",
    "# Arbeiten mit einem jupyter notebook\n",
    "\n",
    "- Mit `help(Ausdruck)` können Sie sich Informationen zu \"Ausdruck\" anzeigen lassen.\n",
    "- Sie können in den Zellen, die mit \"`In [ ]:`\" beginnen, Python-Code eingeben. Wenn Sie **SHIFT+Enter** drücken, wird der Code ausgeführt und die nächste Zelle wird ausgewählt. Führen Sie als Test den folgenden Code aus:"
   ]
  },
  {
   "cell_type": "code",
   "execution_count": null,
   "metadata": {},
   "outputs": [],
   "source": [
    "help(print)"
   ]
  },
  {
   "cell_type": "code",
   "execution_count": null,
   "metadata": {},
   "outputs": [],
   "source": [
    "print(\"Hallo jupyter notebook\")"
   ]
  },
  {
   "cell_type": "markdown",
   "metadata": {},
   "source": [
    "- Dabei ist es möglich mehrere Zeilen zu programmieren, die dann nacheinander ausgeführt werden."
   ]
  },
  {
   "cell_type": "code",
   "execution_count": null,
   "metadata": {},
   "outputs": [],
   "source": [
    "a = 5\n",
    "b = 13\n",
    "print(a + b)"
   ]
  },
  {
   "cell_type": "markdown",
   "metadata": {},
   "source": [
    "- Falls die **letzte Zeile** in einer Code-Zelle `n` einen Wert beinhaltet, wird dieser als \"`Out [n]:`\" ausgegeben. Hierfür ist kein Aufruf von `print` notwendig."
   ]
  },
  {
   "cell_type": "code",
   "execution_count": null,
   "metadata": {},
   "outputs": [],
   "source": [
    "print(\"Variablen bleiben über Zellen hinweg erhalten:\")\n",
    "a + b"
   ]
  },
  {
   "cell_type": "markdown",
   "metadata": {},
   "source": [
    "---\n",
    "\n",
    "# Aufgabe 1 (Gleitpunktzahlen und -arithmetik)\n",
    "**(a) Vollziehen Sie nach, dass die Gleitpunktaddition und -multiplikation (die Addition und Multiplikation im Computer, z. B. mit Python) nicht assoziativ sind. Dabei entspricht die Notation `1e-16` der Zahl $1\\cdot 10^{-16}$ bzw. `xe-16` der Zahl $x\\cdot 10^{-16}$.**"
   ]
  },
  {
   "cell_type": "code",
   "execution_count": null,
   "metadata": {},
   "outputs": [],
   "source": [
    "1 + 1e-16 + 1e-16"
   ]
  },
  {
   "cell_type": "code",
   "execution_count": null,
   "metadata": {},
   "outputs": [],
   "source": [
    "1e-16 + 1e-16 + 1"
   ]
  },
  {
   "cell_type": "code",
   "execution_count": null,
   "metadata": {},
   "outputs": [],
   "source": [
    "(1+0.6e-8) * (1-0.6e-8) * (1-0.6e-8)"
   ]
  },
  {
   "cell_type": "code",
   "execution_count": null,
   "metadata": {},
   "outputs": [],
   "source": [
    "(1-0.6e-8) * (1-0.6e-8) * (1+0.6e-8)"
   ]
  },
  {
   "cell_type": "markdown",
   "metadata": {},
   "source": [
    "**(b) Die Definition der Maschinengenauigkeit zu gegebener Basis $B$ und Mantissenlänge $L_m$ der Vorlesung ist $\\operatorname{eps}=\\frac{B^{(1-L_m)}}{2}$. Im Allgemeinen ist $1+2\\operatorname{eps}$ die kleinste Gleitpunktzahl größer als $1$. Im IEEE-Standard des Double-Precision Formats ($B=2, L_m=52$) ist $1+\\operatorname{eps}$ diese kleinste Zahl (vgl. Bemerkung 1.3) im Skript):**"
   ]
  },
  {
   "cell_type": "code",
   "execution_count": null,
   "metadata": {},
   "outputs": [],
   "source": [
    "eps = 2**(-52)\n",
    "print(eps)"
   ]
  },
  {
   "cell_type": "code",
   "execution_count": null,
   "metadata": {},
   "outputs": [],
   "source": [
    "1 + 0.50001*eps == 1 + eps # Aufrunden"
   ]
  },
  {
   "cell_type": "code",
   "execution_count": null,
   "metadata": {},
   "outputs": [],
   "source": [
    "1 + 0.49999*eps == 1       # Abrunden"
   ]
  },
  {
   "cell_type": "code",
   "execution_count": null,
   "metadata": {},
   "outputs": [],
   "source": [
    "1 + eps == 0.8e-16 + 0.8e-16 + 1"
   ]
  },
  {
   "cell_type": "code",
   "execution_count": null,
   "metadata": {},
   "outputs": [],
   "source": [
    "# Es gibt viel kleinere Gleitpunktzahlen als die Maschinengenauigkeit\n",
    "print(1e-308)\n",
    "print(1e-323) # Hier wird die Normalisierung aufgehoben, um noch kleinere Zahlen darstellen zu können.\n",
    "print(1e-324) # Exponentenunterlauf\n",
    "print(1e309)  # Exponentenüberlauf"
   ]
  },
  {
   "cell_type": "markdown",
   "metadata": {},
   "source": [
    "**(c) Wir betrachten die Verteilung der normalisierten Gleitpunktzahlen $\\mathrm{FL}$.**"
   ]
  },
  {
   "cell_type": "code",
   "execution_count": null,
   "metadata": {},
   "outputs": [],
   "source": [
    "import itertools\n",
    "import matplotlib.pyplot as plt\n",
    "\n",
    "B = 2 # Besser nur B = 2 oder B = 3\n",
    "Lm = 3\n",
    "emin = -1\n",
    "Le = 2\n",
    "\n",
    "plt.figure(figsize = (25,4))\n",
    "\n",
    "# Erzeugung aller möglichen Koeffizienten-Tuple (a_1,...,a_{L_m}) durch itertools.product()\n",
    "for al in itertools.product(range(B), repeat=Lm): \n",
    "    if al[0] != 0: # Normalisierung\n",
    "        # Berechnung des Werts der Mantisse\n",
    "        m = sum(al[l]*B**-(l+1) for l in range(Lm))\n",
    "        \n",
    "        # Zu jeder Mantisse werden alle möglichen Exponenten generiert\n",
    "        for cl in itertools.product(range(B), repeat=Le):\n",
    "            # Berechnung des Exponenten\n",
    "            e = emin + sum(cl[l]*B**l for l in range(Le))\n",
    "            \n",
    "            # Plot der aktuellen Gleitpunktzahl auf einem Zahlenstrahl\n",
    "            plt.plot(+m*B**e, 0, \"+\", color=\"k\", markersize=10, markeredgewidth=2) \n",
    "            plt.plot(-m*B**e, 0, \"+\", color=\"k\", markersize=10, markeredgewidth=2) \n",
    "\n",
    "# Markierung der Null\n",
    "plt.plot(0, 0, \"|\", color=\"k\", markersize=20, markeredgewidth=2)            \n",
    "plt.show()    "
   ]
  },
  {
   "cell_type": "code",
   "execution_count": null,
   "metadata": {},
   "outputs": [],
   "source": [
    "print(\"Alle möglichen Mantissen:\")\n",
    "for al in itertools.product(range(B), repeat=Lm):\n",
    "    if al[0] != 0: # Normalisierung\n",
    "        m = sum(al[l]*B**-(l+1) for l in range(Lm))\n",
    "        print(\"Symbolische Darstellung:\", \"\".join(map(str, al)), \"  Numerischer Wert\", m)  "
   ]
  },
  {
   "cell_type": "code",
   "execution_count": null,
   "metadata": {},
   "outputs": [],
   "source": [
    "print(\"Alle möglichen Exponenten:\")\n",
    "for cl in itertools.product(range(B), repeat=Le):\n",
    "    e = emin + sum(cl[l]*B**l for l in range(Le))\n",
    "    print(\"Symbolische Darstellung:\", \"\".join(map(str, cl)), \"  Numerischer Wert\", e)          "
   ]
  },
  {
   "cell_type": "markdown",
   "metadata": {},
   "source": [
    "**(d) Wir berechnen $e_{max}$, $\\max \\text{FL}$, $\\min \\text{FL}$, $\\min \\text{FL}_+$ $\\max \\text{Fl}_-$, $\\text{eps}$**"
   ]
  },
  {
   "cell_type": "code",
   "execution_count": null,
   "metadata": {},
   "outputs": [],
   "source": [
    "B = 2\n",
    "Lm = 3\n",
    "emin = -1\n",
    "Le = 2\n",
    "\n",
    "emax = emin + B ** Le - 1\n",
    "max_FL = B ** emax * (1 - B ** - Lm)\n",
    "min_FL = -max_FL\n",
    "min_FL_p = B ** (emin - 1)\n",
    "max_Fl_n = -min_FL_p\n",
    "eps = B ** (1 - Lm) / 2\n",
    "print(\" emin     = {:2}\\n emax     = {:2}\\n max_FL   = {:6.3f}\\n min_FL   = {:6.3f}\\n min_FL_p = {:6.3f}\\n max_Fl_n = {:6.3f}\\n eps      = {:6.3f}\".format(\n",
    "    emin, emax, max_FL, min_FL, min_FL_p, max_Fl_n, eps))"
   ]
  },
  {
   "cell_type": "code",
   "execution_count": null,
   "metadata": {},
   "outputs": [],
   "source": [
    "# IEEE Standard\n",
    "B = 2\n",
    "Lm = 52\n",
    "emin = -1022\n",
    "Le = 11\n",
    "\n",
    "emax = 1023  # Formel liefert 1025, 1023 wird aber tatsächlich in IEEE Standard verwendet\n",
    "max_FL = B ** emax * (1 - B ** - Lm)\n",
    "min_FL = -max_FL\n",
    "min_FL_p = B ** (emin - 1)\n",
    "max_Fl_n = -min_FL_p\n",
    "eps = (B ** (1 - Lm) / 2)\n",
    "print(\" emin     = {:5}\\n emax     = {:5}\\n max_FL   = {:14.3e}\\n min_FL   = {:14.3e}\\n min_FL_p = {:14.3e}\\n max_Fl_n = {:14.3e}\\n eps      = {:14.3e}\".format(\n",
    "    emin, emax, max_FL, min_FL, min_FL_p, max_Fl_n, eps))"
   ]
  },
  {
   "cell_type": "markdown",
   "metadata": {},
   "source": [
    "**(d) Wir betrachten die im Übungsblatt definierten Funktionen**"
   ]
  },
  {
   "cell_type": "code",
   "execution_count": null,
   "metadata": {},
   "outputs": [],
   "source": [
    "import matplotlib.pyplot as plt\n",
    "import numpy as np\n",
    "\n",
    "def f(x):\n",
    "    if x == 0:\n",
    "        return 1\n",
    "    else:\n",
    "        return (np.exp(x)-1)/x\n",
    "    \n",
    "def g(x):\n",
    "    y = np.exp(x)\n",
    "    if y == 1:\n",
    "        return 1\n",
    "    else:\n",
    "        return (y-1)/np.log(y)\n",
    "\n",
    "x = np.linspace(10**(-308), 10**(-15), 100)\n",
    "fx = [f(x_) for x_ in x]\n",
    "gx = [g(x_) for x_ in x]\n",
    "\n",
    "plt.plot(x, fx)\n",
    "plt.plot(x, gx)"
   ]
  },
  {
   "cell_type": "markdown",
   "metadata": {},
   "source": [
    "---\n",
    "\n",
    "# Aufgabe 2 (Approximation von $\\pi$, Auslöschung)\n",
    "\n",
    "**(a) Berechnung einer Approximation durch eine stabile Rekursion**\n"
   ]
  },
  {
   "cell_type": "code",
   "execution_count": null,
   "metadata": {},
   "outputs": [],
   "source": [
    "# Das Modul numpy stellt hier die Wurzelfunktion sqrt() und den Gleitpunktwert pi der Kreiszahl bereit.\n",
    "# Der Zugriff auf die Wurzelfunktion erfolgt über np.sqrt(), den Gleitpunktwert von pi erhält man durch np.pi\n",
    "import numpy as np\n",
    "\n",
    "# Initialisierung der Rekursion\n",
    "n = 6     # Anzahl der Dreiecke\n",
    "g = 1     # bei 6 Dreiecken (gleichseitig) gilt g = r, also hier g = 1\n",
    "pi_approx = 3\n",
    "pi_approx_old = 0\n",
    "\n",
    "while np.abs(pi_approx_old-pi_approx)>1e-15:\n",
    "    n = 2*n                                # Verdopplung der Anzahl an Dreiecken\n",
    "    g = g / np.sqrt(2 + np.sqrt(4 - g**2)) # Berechnung der neuen Grundseite auf stabile Weise: keine Auslöschung!!!\n",
    "    pi_approx_old = pi_approx              # Speicherung der vorherigen Approximation für das STOPP-Kriterium\n",
    "    pi_approx = n*g/2                      # Approximation von pi als Umfang/2\n",
    "    # Formatierte Ausgabe\n",
    "    print(\"pi_n: {:16.15f},   Fehler: {:20.16e}\".format(pi_approx, np.pi - pi_approx))"
   ]
  },
  {
   "cell_type": "markdown",
   "metadata": {},
   "source": [
    "**(b) Das Phänomen der Auslöschung bei der Subtraktion zweier Gleitpunktzahlen $x,y\\in\\mathrm{FL}$ mit $x\\approx y$.**"
   ]
  },
  {
   "cell_type": "code",
   "execution_count": null,
   "metadata": {},
   "outputs": [],
   "source": [
    "delta = 1e-9                  # Störung bzw. Rundungsfehler aus vorherigen Rechnungen\n",
    "x = 0.1234567831234\n",
    "y = 0.1234567832147 + delta   # Die Störung wirken sich in y nur auf hintere weniger signifikante Stellen der Mantisse aus \n",
    "x - y                         # das Ergebnis x - y wird maßgeblich von der Störung bestimmt!"
   ]
  },
  {
   "cell_type": "markdown",
   "metadata": {},
   "source": [
    "**(c) Wir betrachten die quadratische Funktion $f(x)=(x-c)(x-c^{-1})=x^2-(c+c^{-1})x+1$ für $c\\gg 1$. Die Nullstellen sind offenbar $x=c$ und $x=c^{-1}$. Wir berechnen die Nullstellen mit Hilfe der $pq$-Formel:**"
   ]
  },
  {
   "cell_type": "code",
   "execution_count": null,
   "metadata": {},
   "outputs": [],
   "source": [
    "c = 20000000\n",
    "x1 = (c + 1/c + np.sqrt((c + 1/c)**2-4))/2\n",
    "x2 = (c + 1/c - np.sqrt((c + 1/c)**2-4))/2\n",
    "print(\"Relativer Fehler bei der Berechnung der Nullstelle 1/c durch pq-Formel      = {}\".format(np.abs(x2-1/c)*c))\n",
    "\n",
    "x2 = 1/x1 # Berechnung der zweiten Nullstelle über Satz von Vieta\n",
    "print(\"Relativer Fehler bei der Berechnung der Nullstelle 1/c durch Satz von Vieta = {}\".format(np.abs(x2-1/c)*c))"
   ]
  },
  {
   "cell_type": "markdown",
   "metadata": {},
   "source": [
    "Erklären Sie den großen relativen Fehler bei Verwendung der pq-Formel."
   ]
  },
  {
   "cell_type": "markdown",
   "metadata": {},
   "source": [
    "**(d) Erklären Sie, wo bei der Berechnung einer Approximation von $\\pi$ Auslöschung auftritt:**"
   ]
  },
  {
   "cell_type": "code",
   "execution_count": null,
   "metadata": {},
   "outputs": [],
   "source": [
    "# Initialisierung der Rekursion\n",
    "n = 6     # Anzahl der Dreiecke\n",
    "g = 1     # bei 6 Dreiecken (gleichseitig) gilt g = r, also hier g = 1\n",
    "\n",
    "for k in range(30):\n",
    "    n = 2*n\n",
    "    \n",
    "    # erste Variante ((1.1) im Skript)\n",
    "    g = np.sqrt(2 - np.sqrt(4 - g**2))\n",
    "    \n",
    "    # zweite Variante ((1.2) im Skript)\n",
    "    #g = g/np.sqrt(2+np.sqrt(4-g**2))\n",
    "    pi_approx = n*g/2\n",
    "    \n",
    "print(pi_approx)"
   ]
  }
 ],
 "metadata": {
  "kernelspec": {
   "display_name": "Python 3",
   "language": "python",
   "name": "python3"
  },
  "language_info": {
   "codemirror_mode": {
    "name": "ipython",
    "version": 3
   },
   "file_extension": ".py",
   "mimetype": "text/x-python",
   "name": "python",
   "nbconvert_exporter": "python",
   "pygments_lexer": "ipython3",
   "version": "3.7.4"
  }
 },
 "nbformat": 4,
 "nbformat_minor": 1
}
